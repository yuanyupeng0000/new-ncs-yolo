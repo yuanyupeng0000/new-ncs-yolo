{
 "cells": [
  {
   "cell_type": "code",
   "execution_count": null,
   "metadata": {},
   "outputs": [],
   "source": [
    "import cv2\n",
    "def contour(img):\n",
    "    #检测轮廓\n",
    "    ret, thresh = cv2.threshold(cv2.cvtColor(img, 25, 255, cv2.THRESH_BINARY)) \n",
    "    image, contours, hier = cv2.findContours(img, cv2.RETR_EXTERNAL, cv2.CHAIN_APPROX_SIMPLE)\n",
    "    for c in contours:  #遍历轮廓\n",
    "        rect = cv2.minAreaRect(c)  #生成最小外接矩形\n",
    "        box_ = cv2.boxPoints(rect)\n",
    "        h = abs(box_[3, 1] - box_[1, 1])\n",
    "        w = abs(box_[3, 0] - box_[1, 0])\n",
    "        print(\"宽，高\",w,h)\n",
    "        #只保留需要的轮廓\n",
    "        if (h > 3000 or w > 2200):\n",
    "            continue\n",
    "        if (h < 2500 or w < 1500):\n",
    "            continue\n",
    "        box = cv2.boxPoints(rect)  # 计算最小面积矩形的坐标\n",
    "        box = np.int0(box)  # 将坐标规范化为整数\n",
    "        angle = rect[2]  #获取矩形相对于水平面的角度\n",
    "        if angle > 0:\n",
    "            if abs(angle) > 45:\n",
    "                angle = 90 - abs(angle)\n",
    "        else:\n",
    "            if abs(angle) > 45:\n",
    "                angle = (90 - abs(angle))\n",
    "        # 绘制矩形\n",
    "        # cv2.drawContours(img, [box], 0, (255, 0, 255), 3)\n",
    "    print(\"轮廓数量\", len(contours))\n",
    "    return img, box, angle\n"
   ]
  },
  {
   "cell_type": "code",
   "execution_count": null,
   "metadata": {},
   "outputs": [],
   "source": [
    "import cv2\n",
    "import numpy as np\n",
    "IMG_PATH = '/media/yyp/DATA/Public_Datasets/ZENITH_DATASETS/VOCdevkit_zeshida/VOC2007/seed_i_new/'\n",
    "import os\n",
    "imgs = os.listdir(IMG_PATH)\n",
    "img = IMG_PATH + imgs[0]\n",
    "\n",
    "img = cv2.imread(img)\n",
    "print(img.shape)\n"
   ]
  },
  {
   "cell_type": "code",
   "execution_count": null,
   "metadata": {},
   "outputs": [],
   "source": [
    "'''imgray = cv2.cvtColor(img, cv2.COLOR_BGR2GRAY)\n",
    "ret, thresh = cv2.threshold(imgray, 127, 255, 0)\n",
    "im2, contours, hierarchy = cv2.findContours(thresh, cv2.RETR_TREE, cv2.CHAIN_APPROX_SIMPLE)\n",
    "cnt = contours[0]\n",
    "for cnt in contours:\n",
    "    cv2.drawContours(img,[cnt],0,(0,255,0),3)\n",
    "\n",
    "    \n",
    "cv2.imshow('src',img)\n",
    "cv2.waitKey(5000)'''"
   ]
  },
  {
   "cell_type": "code",
   "execution_count": null,
   "metadata": {},
   "outputs": [],
   "source": [
    "frame = img\n",
    "# set blue thresh 设置HSV中蓝色、天蓝色范围\n",
    "lower_blue = np.array([78,43,46])\n",
    "upper_blue = np.array([110,255,255])\n",
    "hsv = cv2.cvtColor(frame, cv2.COLOR_BGR2HSV)\n",
    "# get mask 利用inRange()函数和HSV模型中蓝色范围的上下界获取mask，mask中原视频中的蓝色部分会被弄成白色，其他部分黑色。\n",
    "mask = cv2.inRange(hsv, lower_blue, upper_blue)\n",
    "cv2.imshow('Mask', mask)\n",
    "# detect blue 将mask于原视频帧进行按位与操作，则会把mask中的白色用真实的图像替换：\n",
    "res = cv2.bitwise_and(frame, frame, mask=mask)\n",
    "cv2.imshow('Result', res)\n",
    "while(True):\n",
    "    if cv2.waitKey(1000) & 0xFF == ord('q'):\n",
    "        break\n",
    "cv2.destroyAllWindows()"
   ]
  },
  {
   "cell_type": "code",
   "execution_count": null,
   "metadata": {},
   "outputs": [],
   "source": []
  }
 ],
 "metadata": {
  "kernelspec": {
   "display_name": "Python 3",
   "language": "python",
   "name": "python3"
  },
  "language_info": {
   "codemirror_mode": {
    "name": "ipython",
    "version": 3
   },
   "file_extension": ".py",
   "mimetype": "text/x-python",
   "name": "python",
   "nbconvert_exporter": "python",
   "pygments_lexer": "ipython3",
   "version": "3.5.2"
  }
 },
 "nbformat": 4,
 "nbformat_minor": 2
}
