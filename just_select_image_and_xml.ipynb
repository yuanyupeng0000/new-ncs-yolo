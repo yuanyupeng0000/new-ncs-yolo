{
 "cells": [
  {
   "cell_type": "code",
   "execution_count": 6,
   "metadata": {},
   "outputs": [],
   "source": [
    "import os,datetime\n",
    "import cv2\n",
    "import xml.etree.ElementTree as ET\n",
    "from PIL import Image\n",
    "import numpy as np\n",
    "import random\n",
    "from pathlib import Path\n",
    "\n",
    "DATASETS_NAME = \"COCO\"\n",
    "DATASETS_DIR = '/media/yyp/DATA/Public_Datasets/COCO/'\n",
    "DATASETS_XML_DIR = DATASETS_DIR + 'annotations/'\n",
    "DATASETS_IMG_DIR = DATASETS_DIR + 'train2017/'\n",
    "SELECTED_IMG_DIR = '../generated/selceted_from_' + DATASETS_NAME + '_image/'\n",
    "SELECTED_XML_DIR = '../generated/selceted_from_' + DATASETS_NAME + '_xml/'\n",
    "SELECTED_CLS = ['cat']\n",
    "    \n",
    "def get_obj_from_xml(xml):\n",
    "    in_file = open(xml_name)\n",
    "    tree=ET.parse(in_file)\n",
    "    root = tree.getroot()\n",
    "    return [obj for obj in root.iter('object')]\n",
    "\n",
    "def get_cls_from_xmlobj(obj_element):    \n",
    "    return obj_element.find('name').text\n",
    "\n",
    "def get_bbox_from_xmlobj(obj_element):\n",
    "    xmlbox = obj_element.find('bndbox')\n",
    "    return [float(xmlbox.find('xmin').text), float(xmlbox.find('xmax').text), \n",
    "            float(xmlbox.find('ymin').text), float(xmlbox.find('ymax').text)]"
   ]
  },
  {
   "cell_type": "code",
   "execution_count": 7,
   "metadata": {},
   "outputs": [],
   "source": [
    "seed_xml_names = os.listdir(DATASETS_XML_DIR)\n",
    "for xml_name in seed_xml_names:\n",
    "    if(not xml_name.endswith('.xml')):\n",
    "        continue\n",
    "    img_name = DATASETS_IMG_DIR + xml_name[:-3] + 'jpg'\n",
    "    xml_name = DATASETS_XML_DIR + xml_name\n",
    "    #print(img_name)\n",
    "    #print(xml_name)\n",
    "    tree=ET.parse(xml_name)\n",
    "    objs = get_obj_from_xml(xml_name)\n",
    "    flag_found = False\n",
    "    i = 0\n",
    "    for obj_element in objs:                  \n",
    "        cls = get_cls_from_xmlobj(obj_element)\n",
    "        if(cls not in SELECTED_CLS):\n",
    "            flag_found = True\n",
    "            break\n",
    "            \n",
    "    if(flag_found): \n",
    "        continue\n",
    "    else:\n",
    "        path_imag = Path(SELECTED_IMG_DIR + cls + '/')\n",
    "        path_xml = Path(SELECTED_XML_DIR + cls + '/')\n",
    "        if(not path_imag.is_dir()):\n",
    "            os.system(\"mkdir -p \" + SELECTED_IMG_DIR + cls + '/')\n",
    "        if(not path_xml.is_dir()):\n",
    "            os.system(\"mkdir -p \" + SELECTED_XML_DIR + cls + '/')\n",
    "        os.system('cp ' + img_name + ' ' + SELECTED_IMG_DIR + cls + '/')\n",
    "        os.system('cp ' + xml_name + ' ' + SELECTED_XML_DIR + cls + '/')\n",
    "        #break\n",
    "        "
   ]
  },
  {
   "cell_type": "code",
   "execution_count": null,
   "metadata": {},
   "outputs": [],
   "source": []
  }
 ],
 "metadata": {
  "kernelspec": {
   "display_name": "Python 3",
   "language": "python",
   "name": "python3"
  },
  "language_info": {
   "codemirror_mode": {
    "name": "ipython",
    "version": 3
   },
   "file_extension": ".py",
   "mimetype": "text/x-python",
   "name": "python",
   "nbconvert_exporter": "python",
   "pygments_lexer": "ipython3",
   "version": "3.5.2"
  }
 },
 "nbformat": 4,
 "nbformat_minor": 2
}
