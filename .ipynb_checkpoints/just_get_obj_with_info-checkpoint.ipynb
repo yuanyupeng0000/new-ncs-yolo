{
 "cells": [
  {
   "cell_type": "code",
   "execution_count": 4,
   "metadata": {},
   "outputs": [],
   "source": [
    "import os,datetime\n",
    "import cv2\n",
    "import xml.etree.ElementTree as ET\n",
    "from PIL import Image\n",
    "import numpy as np\n",
    "import random\n",
    "from pathlib import Path\n",
    "SEED_XML_DIR = '/data/darknet/python/xml/'\n",
    "SEED_IMG_DIR = '/data/darknet/python/image/'\n",
    "GENE_IMG_DIR = '../generated/image_expand_obj/'\n",
    "GENE_XML_DIR = '../generated/xml_expand_obj/'\n",
    "GENE_OBJ_DIR = '../generated/img_objects/'\n",
    "\n",
    "def get_obj_from_xml(xml):\n",
    "    in_file = open(xml_name)\n",
    "    tree=ET.parse(in_file)\n",
    "    root = tree.getroot()\n",
    "    return [obj for obj in root.iter('object')]\n",
    "\n",
    "def get_obj_from_image_file(file, bbox):\n",
    "    img = cv2.imread(file)\n",
    "    img_obj = img[int(bbox[2]):int(bbox[3]), int(bbox[0]):int(bbox[1])]\n",
    "    return img_obj\n",
    "\n",
    "def get_cls_from_xmlobj(obj_element):    \n",
    "    return obj_element.find('name').text\n",
    "\n",
    "def get_bbox_from_xmlobj(obj_element):\n",
    "    xmlbox = obj_element.find('bndbox')\n",
    "    return [float(xmlbox.find('xmin').text), float(xmlbox.find('xmax').text), \n",
    "            float(xmlbox.find('ymin').text), float(xmlbox.find('ymax').text)]"
   ]
  },
  {
   "cell_type": "code",
   "execution_count": 7,
   "metadata": {},
   "outputs": [
    {
     "name": "stdout",
     "output_type": "stream",
     "text": [
      "/data/darknet/python/image/00000800953.jpg\n",
      "/data/darknet/python/xml/00000800953.xml\n"
     ]
    },
    {
     "ename": "TypeError",
     "evalue": "Can't convert 'PosixPath' object to str implicitly",
     "output_type": "error",
     "traceback": [
      "\u001b[0;31m---------------------------------------------------------------------------\u001b[0m",
      "\u001b[0;31mTypeError\u001b[0m                                 Traceback (most recent call last)",
      "\u001b[0;32m<ipython-input-7-7bbdeb2e17f3>\u001b[0m in \u001b[0;36m<module>\u001b[0;34m()\u001b[0m\n\u001b[1;32m     17\u001b[0m         \u001b[0mcls_path\u001b[0m \u001b[0;34m=\u001b[0m \u001b[0mPath\u001b[0m\u001b[0;34m(\u001b[0m\u001b[0mGENE_OBJ_DIR\u001b[0m \u001b[0;34m+\u001b[0m \u001b[0mcls\u001b[0m\u001b[0;34m)\u001b[0m\u001b[0;34m\u001b[0m\u001b[0m\n\u001b[1;32m     18\u001b[0m         \u001b[0;32mif\u001b[0m\u001b[0;34m(\u001b[0m\u001b[0;32mnot\u001b[0m \u001b[0mcls_path\u001b[0m\u001b[0;34m.\u001b[0m\u001b[0mis_dir\u001b[0m\u001b[0;34m(\u001b[0m\u001b[0;34m)\u001b[0m\u001b[0;34m)\u001b[0m\u001b[0;34m:\u001b[0m\u001b[0;34m\u001b[0m\u001b[0m\n\u001b[0;32m---> 19\u001b[0;31m             \u001b[0mos\u001b[0m\u001b[0;34m.\u001b[0m\u001b[0msystem\u001b[0m\u001b[0;34m(\u001b[0m\u001b[0;34m\"mkdir -p \"\u001b[0m \u001b[0;34m+\u001b[0m \u001b[0mcls_path\u001b[0m\u001b[0;34m)\u001b[0m\u001b[0;34m\u001b[0m\u001b[0m\n\u001b[0m\u001b[1;32m     20\u001b[0m         \u001b[0msave_path_name\u001b[0m \u001b[0;34m=\u001b[0m \u001b[0mcls_path\u001b[0m \u001b[0;34m+\u001b[0m \u001b[0;34m\"/\"\u001b[0m \u001b[0;34m+\u001b[0m \u001b[0mxml_name\u001b[0m\u001b[0;34m.\u001b[0m\u001b[0msplit\u001b[0m\u001b[0;34m(\u001b[0m\u001b[0;34m'/'\u001b[0m\u001b[0;34m)\u001b[0m\u001b[0;34m[\u001b[0m\u001b[0;34m-\u001b[0m\u001b[0;36m1\u001b[0m\u001b[0;34m]\u001b[0m\u001b[0;34m[\u001b[0m\u001b[0;34m:\u001b[0m\u001b[0;34m-\u001b[0m\u001b[0;36m4\u001b[0m\u001b[0;34m]\u001b[0m \u001b[0;34m+\u001b[0m \u001b[0;34m\"_\"\u001b[0m \u001b[0;34m+\u001b[0m \u001b[0mstr\u001b[0m\u001b[0;34m(\u001b[0m\u001b[0mi\u001b[0m\u001b[0;34m)\u001b[0m \u001b[0;34m+\u001b[0m \u001b[0;34m\".jpg\"\u001b[0m\u001b[0;34m\u001b[0m\u001b[0m\n\u001b[1;32m     21\u001b[0m         \u001b[0mprint\u001b[0m\u001b[0;34m(\u001b[0m\u001b[0msave_path_name\u001b[0m\u001b[0;34m)\u001b[0m\u001b[0;34m\u001b[0m\u001b[0m\n",
      "\u001b[0;31mTypeError\u001b[0m: Can't convert 'PosixPath' object to str implicitly"
     ]
    }
   ],
   "source": [
    "seed_xml_names = os.listdir(SEED_XML_DIR)\n",
    "for xml_name in seed_xml_names:\n",
    "    img_name = SEED_IMG_DIR + xml_name[:-3] + 'jpg'\n",
    "    xml_name = SEED_XML_DIR + xml_name\n",
    "    print(img_name)\n",
    "    print(xml_name)\n",
    "    tree=ET.parse(xml_name)\n",
    "    img = cv2.imread(img_name)    \n",
    "    objs = get_obj_from_xml(xml_name)\n",
    "    \n",
    "    i = 0\n",
    "    for obj_element in objs:\n",
    "        bbox = get_bbox_from_xmlobj(obj_element)           \n",
    "        img_obj = get_obj_from_image_file(img_name, bbox)\n",
    "        \n",
    "        cls = get_cls_from_xmlobj(obj_element)\n",
    "        cls_path = Path(GENE_OBJ_DIR + cls)\n",
    "        if(not cls_path.is_dir()):\n",
    "            os.system(\"mkdir -p \" + GENE_OBJ_DIR + cls) # If use 'cls_path' : Can't convert 'PosixPath' object to str implicitly\n",
    "        save_path_name = GENE_OBJ_DIR + cls + \"/\" + xml_name.split('/')[-1][:-4] + \"_\" + str(i) + \".jpg\"\n",
    "        #print(save_path_name)\n",
    "        cv2.imwrite(save_path_name, img_obj)\n",
    "        i = i+1"
   ]
  },
  {
   "cell_type": "code",
   "execution_count": null,
   "metadata": {},
   "outputs": [],
   "source": []
  }
 ],
 "metadata": {
  "kernelspec": {
   "display_name": "Python 3",
   "language": "python",
   "name": "python3"
  },
  "language_info": {
   "codemirror_mode": {
    "name": "ipython",
    "version": 3
   },
   "file_extension": ".py",
   "mimetype": "text/x-python",
   "name": "python",
   "nbconvert_exporter": "python",
   "pygments_lexer": "ipython3",
   "version": "3.5.2"
  }
 },
 "nbformat": 4,
 "nbformat_minor": 2
}
