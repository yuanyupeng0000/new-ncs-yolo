{
 "cells": [
  {
   "cell_type": "code",
   "execution_count": 1,
   "metadata": {},
   "outputs": [],
   "source": [
    "import os,datetime\n",
    "import cv2\n",
    "import xml.etree.ElementTree as ET\n",
    "from PIL import Image\n",
    "import numpy as np\n",
    "import random\n",
    "from pathlib import Path\n",
    "#SEED_XML_DIR = '/data/darknet/python/xml/'\n",
    "#SEED_IMG_DIR = '/data/darknet/python/image/'\n",
    "SEED_IMG_DIR = '/data/darknet/python/image_20181202_gzsj/'\n",
    "SEED_XML_DIR = '/data/darknet/python/xml_20181202_gzsj/'\n",
    "#GENE_IMG_DIR = '../generated/image_expand_obj/'\n",
    "#GENE_XML_DIR = '../generated/xml_expand_obj/'\n",
    "GENE_OBJ_DIR = '../generated/img_objects/'\n",
    "\n",
    "def get_obj_from_xml(xml):\n",
    "    in_file = open(xml_name)\n",
    "    tree=ET.parse(in_file)\n",
    "    root = tree.getroot()\n",
    "    return [obj for obj in root.iter('object')]\n",
    "\n",
    "def get_obj_from_image_file(file, bbox):\n",
    "    img = cv2.imread(file)\n",
    "    img_obj = img[int(bbox[2]):int(bbox[3]), int(bbox[0]):int(bbox[1])]\n",
    "    return img_obj\n",
    "\n",
    "def get_cls_from_xmlobj(obj_element):    \n",
    "    return obj_element.find('name').text\n",
    "\n",
    "def get_bbox_from_xmlobj(obj_element):\n",
    "    xmlbox = obj_element.find('bndbox')\n",
    "    return [float(xmlbox.find('xmin').text), float(xmlbox.find('xmax').text), \n",
    "            float(xmlbox.find('ymin').text), float(xmlbox.find('ymax').text)]"
   ]
  },
  {
   "cell_type": "code",
   "execution_count": 2,
   "metadata": {},
   "outputs": [
    {
     "ename": "FileNotFoundError",
     "evalue": "[Errno 2] No such file or directory: 'xml_20181202_gzsj/'",
     "output_type": "error",
     "traceback": [
      "\u001b[0;31m---------------------------------------------------------------------------\u001b[0m",
      "\u001b[0;31mFileNotFoundError\u001b[0m                         Traceback (most recent call last)",
      "\u001b[0;32m<ipython-input-2-3a031a4608dc>\u001b[0m in \u001b[0;36m<module>\u001b[0;34m()\u001b[0m\n\u001b[0;32m----> 1\u001b[0;31m \u001b[0mseed_xml_names\u001b[0m \u001b[0;34m=\u001b[0m \u001b[0mos\u001b[0m\u001b[0;34m.\u001b[0m\u001b[0mlistdir\u001b[0m\u001b[0;34m(\u001b[0m\u001b[0mSEED_XML_DIR\u001b[0m\u001b[0;34m)\u001b[0m\u001b[0;34m\u001b[0m\u001b[0m\n\u001b[0m\u001b[1;32m      2\u001b[0m \u001b[0;32mfor\u001b[0m \u001b[0mxml_name\u001b[0m \u001b[0;32min\u001b[0m \u001b[0mseed_xml_names\u001b[0m\u001b[0;34m:\u001b[0m\u001b[0;34m\u001b[0m\u001b[0m\n\u001b[1;32m      3\u001b[0m     \u001b[0mimg_name\u001b[0m \u001b[0;34m=\u001b[0m \u001b[0mSEED_IMG_DIR\u001b[0m \u001b[0;34m+\u001b[0m \u001b[0mxml_name\u001b[0m\u001b[0;34m[\u001b[0m\u001b[0;34m:\u001b[0m\u001b[0;34m-\u001b[0m\u001b[0;36m3\u001b[0m\u001b[0;34m]\u001b[0m \u001b[0;34m+\u001b[0m \u001b[0;34m'jpg'\u001b[0m\u001b[0;34m\u001b[0m\u001b[0m\n\u001b[1;32m      4\u001b[0m     \u001b[0mxml_name\u001b[0m \u001b[0;34m=\u001b[0m \u001b[0mSEED_XML_DIR\u001b[0m \u001b[0;34m+\u001b[0m \u001b[0mxml_name\u001b[0m\u001b[0;34m\u001b[0m\u001b[0m\n\u001b[1;32m      5\u001b[0m     \u001b[0mprint\u001b[0m\u001b[0;34m(\u001b[0m\u001b[0mimg_name\u001b[0m\u001b[0;34m)\u001b[0m\u001b[0;34m\u001b[0m\u001b[0m\n",
      "\u001b[0;31mFileNotFoundError\u001b[0m: [Errno 2] No such file or directory: 'xml_20181202_gzsj/'"
     ]
    }
   ],
   "source": [
    "seed_xml_names = os.listdir(SEED_XML_DIR)\n",
    "for xml_name in seed_xml_names:\n",
    "    img_name = SEED_IMG_DIR + xml_name[:-3] + 'jpg'\n",
    "    xml_name = SEED_XML_DIR + xml_name\n",
    "    print(img_name)\n",
    "    print(xml_name)\n",
    "    tree=ET.parse(xml_name)\n",
    "    img = cv2.imread(img_name)    \n",
    "    objs = get_obj_from_xml(xml_name)\n",
    "    \n",
    "    i = 0\n",
    "    for obj_element in objs:\n",
    "        bbox = get_bbox_from_xmlobj(obj_element)           \n",
    "        img_obj = get_obj_from_image_file(img_name, bbox)\n",
    "        \n",
    "        cls = get_cls_from_xmlobj(obj_element)\n",
    "        cls_path = Path(GENE_OBJ_DIR + cls)\n",
    "        if(not cls_path.is_dir()):\n",
    "            os.system(\"mkdir -p \" + GENE_OBJ_DIR + cls) # If use 'cls_path' : Can't convert 'PosixPath' object to str implicitly\n",
    "        save_path_name = GENE_OBJ_DIR + cls + \"/\" + xml_name.split('/')[-1][:-4] + \"_\" + str(i) + \".jpg\"\n",
    "        #print(save_path_name)\n",
    "        cv2.imwrite(save_path_name, img_obj)\n",
    "        i = i+1"
   ]
  },
  {
   "cell_type": "code",
   "execution_count": null,
   "metadata": {},
   "outputs": [],
   "source": []
  }
 ],
 "metadata": {
  "kernelspec": {
   "display_name": "Python 3",
   "language": "python",
   "name": "python3"
  },
  "language_info": {
   "codemirror_mode": {
    "name": "ipython",
    "version": 3
   },
   "file_extension": ".py",
   "mimetype": "text/x-python",
   "name": "python",
   "nbconvert_exporter": "python",
   "pygments_lexer": "ipython3",
   "version": "3.5.2"
  }
 },
 "nbformat": 4,
 "nbformat_minor": 2
}
