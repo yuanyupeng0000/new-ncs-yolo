{
 "cells": [
  {
   "cell_type": "code",
   "execution_count": 1,
   "metadata": {},
   "outputs": [],
   "source": [
    "import os,datetime\n",
    "import cv2\n",
    "import xml.etree.ElementTree as ET\n",
    "from PIL import Image\n",
    "import numpy as np\n",
    "import random\n",
    "from pathlib import Path\n",
    "#SEED_XML_DIR = '/data/darknet/python/xml/'\n",
    "#SEED_IMG_DIR = '/data/darknet/python/image/'\n",
    "SEED_IMG_DIR = '/home/yyp/data/VOCdevkit/VOC2007/JPEGImages/'\n",
    "SEED_XML_DIR = '/home/yyp/data/VOCdevkit/VOC2007/Annotations/'\n",
    "GENE_IMG_DIR = '../generated/image_expand_obj/'\n",
    "GENE_XML_DIR = '../generated/xml_expand_obj/'\n",
    "GENE_OBJ_DIR = '../generated/img_objects/'\n",
    "\n",
    "def get_obj_from_xml(xml):\n",
    "    in_file = open(xml_name)\n",
    "    tree=ET.parse(in_file)\n",
    "    root = tree.getroot()\n",
    "    return [obj for obj in root.iter('object')]\n",
    "\n",
    "def get_obj_from_image_file(file, bbox):\n",
    "    img = cv2.imread(file)\n",
    "    img_obj = img[int(bbox[2]):int(bbox[3]), int(bbox[0]):int(bbox[1])]\n",
    "    return img_obj\n",
    "\n",
    "def get_cls_from_xmlobj(obj_element):    \n",
    "    return obj_element.find('name').text\n",
    "\n",
    "def get_bbox_from_xmlobj(obj_element):\n",
    "    xmlbox = obj_element.find('bndbox')\n",
    "    return [float(xmlbox.find('xmin').text), float(xmlbox.find('xmax').text), \n",
    "            float(xmlbox.find('ymin').text), float(xmlbox.find('ymax').text)]"
   ]
  },
  {
   "cell_type": "code",
   "execution_count": 2,
   "metadata": {},
   "outputs": [
    {
     "name": "stdout",
     "output_type": "stream",
     "text": [
      "/home/yyp/data/VOCdevkit/VOC2007/Annotations/20181202174534_00000800643.jpg\n",
      "/home/yyp/data/VOCdevkit/VOC2007/JPEGImages/20181202174534_00000800643.jpg\n"
     ]
    },
    {
     "ename": "ParseError",
     "evalue": "not well-formed (invalid token): line 1, column 0 (<string>)",
     "output_type": "error",
     "traceback": [
      "Traceback \u001b[0;36m(most recent call last)\u001b[0m:\n",
      "  File \u001b[1;32m\"/home/yyp/.local/lib/python3.5/site-packages/IPython/core/interactiveshell.py\"\u001b[0m, line \u001b[1;32m2961\u001b[0m, in \u001b[1;35mrun_code\u001b[0m\n    exec(code_obj, self.user_global_ns, self.user_ns)\n",
      "  File \u001b[1;32m\"<ipython-input-2-3a031a4608dc>\"\u001b[0m, line \u001b[1;32m7\u001b[0m, in \u001b[1;35m<module>\u001b[0m\n    tree=ET.parse(xml_name)\n",
      "  File \u001b[1;32m\"/usr/lib/python3.5/xml/etree/ElementTree.py\"\u001b[0m, line \u001b[1;32m1184\u001b[0m, in \u001b[1;35mparse\u001b[0m\n    tree.parse(source, parser)\n",
      "\u001b[0;36m  File \u001b[0;32m\"/usr/lib/python3.5/xml/etree/ElementTree.py\"\u001b[0;36m, line \u001b[0;32m596\u001b[0;36m, in \u001b[0;35mparse\u001b[0;36m\u001b[0m\n\u001b[0;31m    self._root = parser._parse_whole(source)\u001b[0m\n",
      "\u001b[0;36m  File \u001b[0;32m\"<string>\"\u001b[0;36m, line \u001b[0;32munknown\u001b[0m\n\u001b[0;31mParseError\u001b[0m\u001b[0;31m:\u001b[0m not well-formed (invalid token): line 1, column 0\n"
     ]
    }
   ],
   "source": [
    "seed_xml_names = os.listdir(SEED_XML_DIR)\n",
    "for xml_name in seed_xml_names:\n",
    "    img_name = SEED_IMG_DIR + xml_name[:-3] + 'jpg'\n",
    "    xml_name = SEED_XML_DIR + xml_name\n",
    "    print(img_name)\n",
    "    print(xml_name)\n",
    "    tree=ET.parse(xml_name)\n",
    "    img = cv2.imread(img_name)    \n",
    "    objs = get_obj_from_xml(xml_name)\n",
    "    \n",
    "    i = 0\n",
    "    for obj_element in objs:\n",
    "        bbox = get_bbox_from_xmlobj(obj_element)           \n",
    "        img_obj = get_obj_from_image_file(img_name, bbox)\n",
    "        \n",
    "        cls = get_cls_from_xmlobj(obj_element)\n",
    "        cls_path = Path(GENE_OBJ_DIR + cls)\n",
    "        if(not cls_path.is_dir()):\n",
    "            os.system(\"mkdir -p \" + GENE_OBJ_DIR + cls) # If use 'cls_path' : Can't convert 'PosixPath' object to str implicitly\n",
    "        save_path_name = GENE_OBJ_DIR + cls + \"/\" + xml_name.split('/')[-1][:-4] + \"_\" + str(i) + \".jpg\"\n",
    "        #print(save_path_name)\n",
    "        cv2.imwrite(save_path_name, img_obj)\n",
    "        i = i+1"
   ]
  },
  {
   "cell_type": "code",
   "execution_count": null,
   "metadata": {},
   "outputs": [],
   "source": []
  }
 ],
 "metadata": {
  "kernelspec": {
   "display_name": "Python 3",
   "language": "python",
   "name": "python3"
  },
  "language_info": {
   "codemirror_mode": {
    "name": "ipython",
    "version": 3
   },
   "file_extension": ".py",
   "mimetype": "text/x-python",
   "name": "python",
   "nbconvert_exporter": "python",
   "pygments_lexer": "ipython3",
   "version": "3.5.2"
  }
 },
 "nbformat": 4,
 "nbformat_minor": 2
}
