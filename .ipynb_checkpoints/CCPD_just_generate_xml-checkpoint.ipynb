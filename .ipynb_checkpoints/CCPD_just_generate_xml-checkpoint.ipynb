{
 "cells": [
  {
   "cell_type": "code",
   "execution_count": 1,
   "metadata": {},
   "outputs": [
    {
     "name": "stdout",
     "output_type": "stream",
     "text": [
      "['ccpd_base', 'ccpd_blur', 'ccpd_challenge', 'ccpd_db', 'ccpd_fn', 'ccpd_np', 'ccpd_rotate', 'ccpd_tilt', 'ccpd_weather']\n"
     ]
    }
   ],
   "source": [
    "import generate_xml as g_x\n",
    "DATA_BASE_DIR_PREFIX = '/datasets/252/data/CCPD2019/'\n",
    "\"\"\"\n",
    "ccpd_base\n",
    "ccpd_blur\n",
    "ccpd_challenge\n",
    "ccpd_db\n",
    "ccpd_fn\n",
    "ccpd_np\n",
    "ccpd_rotate\n",
    "ccpd_tilt\n",
    "ccpd_weather\n",
    "\"\"\"\n",
    "generated_xml_dir = '/media/yyp/DATA/' + 'CCPD_xmls/'\n",
    "import os\n",
    "os.system('mkdir ' + generated_xml_dir)\n",
    "\n",
    "class BBox(object):\n",
    "    def __init__(self, xmin,ymin,xmax,ymax,cls_name, confidence=0.3):\n",
    "        self.left = int(xmin)\n",
    "        self.top = int(ymin)\n",
    "        self.right = int(xmax)\n",
    "        self.bottom = int(ymax)\n",
    "        self.name = cls_name\n",
    "        self.confidence = confidence\n",
    "import os\n",
    "dirs = os.listdir(DATA_BASE_DIR_PREFIX)\n",
    "target_dirs = []\n",
    "for dir_ in dirs:\n",
    "    if(dir_.split(\"_\")[0] == 'ccpd'):\n",
    "        target_dirs.append(dir_)\n",
    "        \n",
    "\n",
    "target_dirs.sort()\n",
    "print(target_dirs)"
   ]
  },
  {
   "cell_type": "code",
   "execution_count": null,
   "metadata": {},
   "outputs": [],
   "source": [
    "for ccpd_x in target_dirs:\n",
    "    print(ccpd_x)\n",
    "    x_files = os.listdir(DATA_BASE_DIR_PREFIX + ccpd_x)\n",
    "    x_files.sort()\n",
    "    for x_file in x_files[:200]:\n",
    "        print(x_file)\n",
    "        attributs = x_file.split('-')\n",
    "        if(len(attributs) <6 ):\n",
    "            continue\n",
    "        print(attributs)\n",
    "        Area, Tilt_degree, Bounding_box_coordinates, Four_vertices_locations, Lpn, \\\n",
    "        Brightness, Blurriness = attributs[0], attributs[1], attributs[2], attributs[3], \\\n",
    "        attributs[4], attributs[5], attributs[6]\n",
    "        [xmin, ymin] = (Bounding_box_coordinates.split('_')[0]).split('&')\n",
    "        [xmax, ymax] = (Bounding_box_coordinates.split('_')[1]).split('&')\n",
    "        print(str(xmin)+str(ymin)+str(xmax)+str(ymax))\n",
    "        print([xmin, ymin, xmax, ymax])\n",
    "        bbox = BBox(xmin,ymin,xmax,ymax,cls_name='plate',confidence=0.3)\n",
    "        g_x.generate_xml([bbox], DATA_BASE_DIR_PREFIX + ccpd_x + '/' + x_file, \n",
    "                         generated_xml_dir, ['plate'])\n",
    "        #break\n",
    "        "
   ]
  },
  {
   "cell_type": "code",
   "execution_count": null,
   "metadata": {},
   "outputs": [],
   "source": [
    "help(g_x.generate_xml)"
   ]
  }
 ],
 "metadata": {
  "kernelspec": {
   "display_name": "Python 3",
   "language": "python",
   "name": "python3"
  },
  "language_info": {
   "codemirror_mode": {
    "name": "ipython",
    "version": 3
   },
   "file_extension": ".py",
   "mimetype": "text/x-python",
   "name": "python",
   "nbconvert_exporter": "python",
   "pygments_lexer": "ipython3",
   "version": "3.5.2"
  }
 },
 "nbformat": 4,
 "nbformat_minor": 2
}
