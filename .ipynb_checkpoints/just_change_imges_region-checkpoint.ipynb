{
 "cells": [
  {
   "cell_type": "code",
   "execution_count": 3,
   "metadata": {},
   "outputs": [
    {
     "name": "stdout",
     "output_type": "stream",
     "text": [
      "6002306\n"
     ]
    }
   ],
   "source": [
    "import cv2,os\n",
    "SEED_IMG_DIR = '/data/darknet/python/20190530_images_replaced_ordinary_obj_with_bkg/'\n",
    "images = os.listdir(SEED_IMG_DIR)\n",
    "images.sort()\n",
    "for img in images:\n",
    "    print(int(img[-15:-4]))\n",
    "    if(int(img[-15:-4]) > 6002599):\n",
    "        continue\n",
    "    full_name = SEED_IMG_DIR + img\n",
    "    #print(full_name)\n",
    "    fram = cv2.imread(full_name)\n",
    "    region = fram[:,300:550,:]\n",
    "    cv2.imshow('test', region)\n",
    "    cv2.waitKey(3000)\n",
    "    cv2.destroyWindow('test')\n",
    "    \n",
    "    break"
   ]
  },
  {
   "cell_type": "code",
   "execution_count": null,
   "metadata": {},
   "outputs": [],
   "source": []
  },
  {
   "cell_type": "code",
   "execution_count": null,
   "metadata": {},
   "outputs": [],
   "source": []
  }
 ],
 "metadata": {
  "kernelspec": {
   "display_name": "Python 3",
   "language": "python",
   "name": "python3"
  },
  "language_info": {
   "codemirror_mode": {
    "name": "ipython",
    "version": 3
   },
   "file_extension": ".py",
   "mimetype": "text/x-python",
   "name": "python",
   "nbconvert_exporter": "python",
   "pygments_lexer": "ipython3",
   "version": "3.5.2"
  }
 },
 "nbformat": 4,
 "nbformat_minor": 2
}
