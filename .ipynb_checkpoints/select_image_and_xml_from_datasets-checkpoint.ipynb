{
 "cells": [
  {
   "cell_type": "code",
   "execution_count": 2,
   "metadata": {},
   "outputs": [],
   "source": [
    "import os,datetime\n",
    "import cv2\n",
    "import xml.etree.ElementTree as ET\n",
    "from PIL import Image\n",
    "import numpy as np\n",
    "import random\n",
    "from pathlib import Path\n",
    "DATASETS_DIR = 'VOCdevkit/'\n",
    "SELECTED_IMG_DIR = '../generated/selceted_from_' + DATASETS_DIR + 'image/'\n",
    "SELECTED_XML_DIR = '../generated/selceted_from_' + DATASETS_DIR + 'xml/'\n",
    "SELECTED_CLS = ['person']"
   ]
  },
  {
   "cell_type": "code",
   "execution_count": null,
   "metadata": {},
   "outputs": [],
   "source": []
  }
 ],
 "metadata": {
  "kernelspec": {
   "display_name": "Python 3",
   "language": "python",
   "name": "python3"
  },
  "language_info": {
   "codemirror_mode": {
    "name": "ipython",
    "version": 3
   },
   "file_extension": ".py",
   "mimetype": "text/x-python",
   "name": "python",
   "nbconvert_exporter": "python",
   "pygments_lexer": "ipython3",
   "version": "3.5.2"
  }
 },
 "nbformat": 4,
 "nbformat_minor": 2
}
