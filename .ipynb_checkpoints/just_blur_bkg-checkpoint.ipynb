{
 "cells": [
  {
   "cell_type": "code",
   "execution_count": null,
   "metadata": {},
   "outputs": [],
   "source": [
    "import os, time\n",
    "import cv2\n",
    "import xml.etree.ElementTree as ET\n",
    "from PIL import Image\n",
    "import numpy as np\n",
    "import random\n",
    "from pathlib import Path\n",
    "SEED_XML_DIR = '/data/darknet/python/xml/'\n",
    "SEED_IMG_DIR = '/data/darknet/python/image/'\n",
    "GENE_IMG_DIR = '../generated/images_blured_bkg/'\n",
    "\n",
    "def blur_background_from_image_file(file, bboxes, extend_spaces=0):\n",
    "    img = cv2.imread(file)\n",
    "    #print(img.shape)\n",
    "    #print(img)\n",
    "    img_objs = []\n",
    "    for bbox in bboxes:\n",
    "        img_obj = img[int(bbox[2]):int(bbox[3]), int(bbox[0]):int(bbox[1])]\n",
    "        img_objs.append(img_obj)\n",
    "    #img = cv2.blur(img, (int(img.shape[0]/20), int(img.shape[1]/30)))\n",
    "    for i in range(200):\n",
    "        img = cv2.blur(img, (3, 3))\n",
    "    #img = cv2.blur(img, (int(img.shape[0]/80), int(img.shape[1]/120)))\n",
    "    #img = cv2.blur(img, (8, 8))\n",
    "    i = 0\n",
    "    for bbox in bboxes:\n",
    "        img[int(bbox[2]):int(bbox[3]), int(bbox[0]):int(bbox[1])] = img_objs[i]\n",
    "        i = i+1\n",
    "    cv2.imwrite(GENE_IMG_DIR+file.split('/')[-1], img)\n",
    "    return \n",
    "def get_obj_from_xml(xml):\n",
    "    in_file = open(xml_name)\n",
    "    tree=ET.parse(in_file)\n",
    "    root = tree.getroot()\n",
    "    return [obj for obj in root.iter('object')]\n",
    "\n",
    "def get_bboxes_from_etree(etree):\n",
    "    root = tree.getroot()  \n",
    "    objects = root.findall('object')\n",
    "    bboxes = []\n",
    "    for obj in objects:\n",
    "        xmlbox = obj.find('bndbox')\n",
    "        b = [float(xmlbox.find('xmin').text), float(xmlbox.find('xmax').text), float(xmlbox.find('ymin').text), float(xmlbox.find('ymax').text)]\n",
    "        bboxes.append(b)\n",
    "    return bboxes\n",
    "\n",
    "seed_xml_names.sort()\n",
    "\n",
    "last_frame_bboxes = []\n",
    "for xml_name in seed_xml_names:\n",
    "    if(not xml_name.endswith('.xml')):\n",
    "        continue\n",
    "    in_file = open(SEED_XML_DIR + xml_name)\n",
    "    tree=ET.parse(in_file)\n",
    "    bboxes = get_bboxes_from_etree(tree)\n",
    "    blur_background_from_image_file(SEED_IMG_DIR + xml_name[:-3] + 'jpg', bboxes)"
   ]
  }
 ],
 "metadata": {
  "kernelspec": {
   "display_name": "Python 3",
   "language": "python",
   "name": "python3"
  },
  "language_info": {
   "codemirror_mode": {
    "name": "ipython",
    "version": 3
   },
   "file_extension": ".py",
   "mimetype": "text/x-python",
   "name": "python",
   "nbconvert_exporter": "python",
   "pygments_lexer": "ipython3",
   "version": "3.5.2"
  }
 },
 "nbformat": 4,
 "nbformat_minor": 2
}
