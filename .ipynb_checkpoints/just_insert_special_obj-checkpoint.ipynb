{
 "cells": [
  {
   "cell_type": "code",
   "execution_count": 1,
   "metadata": {},
   "outputs": [],
   "source": [
    "import os,datetime\n",
    "import cv2\n",
    "import xml.etree.ElementTree as ET\n",
    "from PIL import Image\n",
    "import numpy as np\n",
    "import random\n",
    "from pathlib import Path\n",
    "SEED_XML_DIR = '/data/darknet/python/xml/'\n",
    "SEED_IMG_DIR = '/data/darknet/python/image/'\n",
    "GENE_IMG_DIR = '../generated/image_expand_obj/'\n",
    "GENE_XML_DIR = '../generated/xml_expand_obj/'\n",
    "GENE_OBJ_DIR = '../generated/img_objects/'\n",
    "SPECIAL_OGJ_DIR = '../manufactur/specail_obj/'"
   ]
  },
  {
   "cell_type": "code",
   "execution_count": null,
   "metadata": {},
   "outputs": [],
   "source": []
  }
 ],
 "metadata": {
  "kernelspec": {
   "display_name": "Python 3",
   "language": "python",
   "name": "python3"
  },
  "language_info": {
   "codemirror_mode": {
    "name": "ipython",
    "version": 3
   },
   "file_extension": ".py",
   "mimetype": "text/x-python",
   "name": "python",
   "nbconvert_exporter": "python",
   "pygments_lexer": "ipython3",
   "version": "3.5.2"
  }
 },
 "nbformat": 4,
 "nbformat_minor": 2
}
