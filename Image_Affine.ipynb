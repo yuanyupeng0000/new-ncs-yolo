{
 "cells": [
  {
   "cell_type": "code",
   "execution_count": 1,
   "metadata": {},
   "outputs": [],
   "source": [
    "cv2_root = '/usr/local/lib/python3.5/dist-packages/'\n",
    "import sys\n",
    "sys.path.insert(0, cv2_root)\n",
    "import cv2\n",
    "cv2.__version__\n",
    "import numpy as np"
   ]
  },
  {
   "cell_type": "code",
   "execution_count": 2,
   "metadata": {},
   "outputs": [
    {
     "name": "stdout",
     "output_type": "stream",
     "text": [
      "576\n",
      "768\n",
      "[(441.41531628991822, -188.55375505322445), (-57.415316289918337, 99.446244946775579), (326.58468371008178, 764.55375505322445), (825.41531628991834, 476.55375505322445)]\n",
      "xmin: -57.41531628991834, xmax: 825.4153162899183, ymin: -188.55375505322445, ymax: 764.5537550532244\n",
      "roted_h: 882.8306325798367, roted_w: 953.1075101064489\n"
     ]
    }
   ],
   "source": [
    "img = cv2.imread('dog.jpg')\n",
    "(h_, w_) = img.shape[:2]\n",
    "print(h_)\n",
    "print(w_)\n",
    "#x= (x1 - x2)*cos(θ) - (y1 - y2)*sin(θ) + x2 ;\n",
    "#y= (x1 - x2)*sin(θ) + (y1 - y2)*cos(θ) + y2 ;\n",
    "point_list = [(0, 0), (0, h_), (w_, h_), (w_, 0)]\n",
    "center = (w_ // 2, h_ // 2)\n",
    "#point_center = center\n",
    "thealta = 60\n",
    "roted_point_list = [((point[0]-center[0])*np.cos(np.pi*thealta/180) \n",
    "                     - (point[1]-center[1])*np.sin(np.pi*thealta/180) \n",
    "                     + center[0], (point[0]-center[0])*np.sin(np.pi*thealta/180) \n",
    "                     + (point[1]-center[1])*np.cos(np.pi*thealta/180) + center[1]) for point in point_list]\n",
    "print(roted_point_list)\n",
    "\n",
    "temp = np.zeros((2, 4))\n",
    "temp[0] = [roted_point[0] for roted_point in roted_point_list]\n",
    "temp[1] = [roted_point[1] for roted_point in roted_point_list]\n",
    "(xmin, xmax, ymin, ymax) = (np.min(temp[0]), np.max(temp[0]), np.min(temp[1]), np.max(temp[1]))\n",
    "print('xmin: {0}, xmax: {1}, ymin: {2}, ymax: {3}'.format(xmin, xmax, ymin, ymax))\n",
    "\n",
    "roted_h, roted_w = ymax - ymin, xmax - xmin\n",
    "print('roted_h: {0}, roted_w: {1}'.format(roted_w, roted_h))\n"
   ]
  },
  {
   "cell_type": "code",
   "execution_count": 3,
   "metadata": {},
   "outputs": [
    {
     "name": "stdout",
     "output_type": "stream",
     "text": [
      "top_bottom:188, left_right_:57\n"
     ]
    },
    {
     "data": {
      "text/plain": [
       "-1"
      ]
     },
     "execution_count": 3,
     "metadata": {},
     "output_type": "execute_result"
    }
   ],
   "source": [
    "top_bottom, left_right = int((roted_h - h_)/2), int((roted_w - w_)/2)\n",
    "print('top_bottom:{0}, left_right_:{1}'.format(top_bottom, left_right))\n",
    "padding = lambda arg : max(arg, 0)\n",
    "dst = cv2.copyMakeBorder(img, padding(top_bottom), padding(top_bottom), padding(left_right), \n",
    "                         padding(left_right), cv2.BORDER_CONSTANT)\n",
    "(h, w) = dst.shape[:2]   \n",
    "center = (w // 2, h // 2)\n",
    "M = cv2.getRotationMatrix2D(center, thealta, 1.0)\n",
    "rotated_img = cv2.warpAffine(dst, M, (w, h))\n",
    "if(top_bottom < 0):\n",
    "    top_bottom = abs(top_bottom)\n",
    "    rotated_img = rotated_img[top_bottom:-top_bottom, :, :]\n",
    "if(left_right < 0):\n",
    "    left_right = abs(left_right)\n",
    "    rotated_img = rotated_img[:, left_right:-left_right, :]\n",
    "\n",
    "cv2.imshow(\"Rotated0\", rotated_img)\n",
    "cv2.waitKey(1000)"
   ]
  },
  {
   "cell_type": "code",
   "execution_count": null,
   "metadata": {},
   "outputs": [],
   "source": []
  }
 ],
 "metadata": {
  "kernelspec": {
   "display_name": "Python 3",
   "language": "python",
   "name": "python3"
  },
  "language_info": {
   "codemirror_mode": {
    "name": "ipython",
    "version": 3
   },
   "file_extension": ".py",
   "mimetype": "text/x-python",
   "name": "python",
   "nbconvert_exporter": "python",
   "pygments_lexer": "ipython3",
   "version": "3.5.2"
  }
 },
 "nbformat": 4,
 "nbformat_minor": 2
}
