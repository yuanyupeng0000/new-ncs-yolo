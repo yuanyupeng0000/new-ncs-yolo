{
 "cells": [
  {
   "cell_type": "code",
   "execution_count": 16,
   "metadata": {},
   "outputs": [],
   "source": [
    "import os, datetime\n",
    "import cv2\n",
    "import xml.etree.ElementTree as ET\n",
    "from PIL import Image\n",
    "\n",
    "time_str = (datetime.datetime.now()).strftime(\"%Y%m%d\")\n",
    "xml_dir = '/data/darknet/python/' + '20190111' + '_xml/'\n",
    "image_dir = '/data/darknet/python/' + time_str + '_images_replaced_bkg/'\n",
    "generated_image_dir = '/data/darknet/python/' + time_str + '_image_expand_obj/'\n",
    "generated_xml_dir = '/data/darknet/python/' + time_str + '_xml_expand_obj/'\n",
    "\n",
    "os.system('mkdir -p ' + xml_dir)\n",
    "os.system('mkdir -p ' + image_dir)\n",
    "os.system('mkdir -p ' + generated_image_dir)\n",
    "os.system('mkdir -p ' + generated_xml_dir)\n",
    "\n",
    "SEED_XML_DIR = xml_dir\n",
    "SEED_IMG_DIR = image_dir\n",
    "SEED_CHG_JPG = generated_image_dir\n",
    "SEED_CHG_XML = generated_xml_dir\n",
    "\n",
    "os.system(\"mkdir -p \" + SEED_CHG_XML)\n",
    "os.system(\"mkdir -p \" + SEED_CHG_JPG)\n",
    "\n",
    "import numpy as np\n",
    "import cv2"
   ]
  },
  {
   "cell_type": "code",
   "execution_count": 17,
   "metadata": {},
   "outputs": [
    {
     "name": "stdout",
     "output_type": "stream",
     "text": [
      "101\n"
     ]
    }
   ],
   "source": [
    "seed_xml_names = os.listdir(SEED_XML_DIR)\n",
    "#seed_img_names = os.listdir(SEED_IMG_DIR)\n",
    "seed_xml_names.sort()\n",
    "print(len(seed_xml_names))"
   ]
  },
  {
   "cell_type": "code",
   "execution_count": 22,
   "metadata": {},
   "outputs": [],
   "source": [
    "x_shrink_scale = 0\n",
    "y_shrink_scale = 0.2\n",
    "padding = 127.5\n",
    "for xml in seed_xml_names:\n",
    "    \n",
    "    # generate new jpg image file\n",
    "    img_file = xml[:-4] + '.jpg'\n",
    "    img_path = SEED_IMG_DIR + img_file\n",
    "    img = cv2.imread(img_path)\n",
    "    array = np.zeros_like(img)\n",
    "    array.fill(padding)   \n",
    "    new_w = int(img.shape[1]*(1-x_shrink_scale))\n",
    "    new_h = int(img.shape[0]*(1-y_shrink_scale))\n",
    "    shrink_width = img.shape[1] - new_w\n",
    "    shrink_heigt = img.shape[0] - new_h\n",
    "    #img = cv2.resize(img, (new_w, img.shape[0]))\n",
    "    #array[:, int(shrink_width/2):int(shrink_width/2) + new_w] = img\n",
    "    img = cv2.resize(img, (new_w, new_h))\n",
    "    array[int(shrink_heigt/2):int(shrink_heigt/2) + new_h, int(shrink_width/2):int(shrink_width/2) + new_w] = img\n",
    "    cv2.imwrite(SEED_CHG_JPG + \"ge_shrink_scale_\" + str(x_shrink_scale) + \"_\" + str(y_shrink_scale) + \"_\" + str(padding) + \"_\"+ img_file, array)\n",
    "    \n",
    "    # generate new anotation xml file    \n",
    "    xml_path = SEED_XML_DIR + xml\n",
    "    in_file = open(xml_path)\n",
    "    tree=ET.parse(in_file)\n",
    "    root = tree.getroot()\n",
    "    \n",
    "    for obj in root.iter('object'):\n",
    "        '''\n",
    "        difficult = obj.find('difficult').text\n",
    "        cls_ = obj.find('name').text\n",
    "        if cls_ not in classes_ or int(difficult)==1:\n",
    "            continue\n",
    "        '''\n",
    "        xmlbox = obj.find('bndbox')\n",
    "        xmin, xmax = int(xmlbox.find('xmin').text), int(xmlbox.find('xmax').text)\n",
    "        ymin, ymax = int(xmlbox.find('ymin').text), int(xmlbox.find('ymax').text)\n",
    "        xmlbox.find('xmin').text = str(int(xmin*(1-x_shrink_scale) + shrink_width/2))\n",
    "        xmlbox.find('xmax').text = str(int(xmax*(1-x_shrink_scale) + shrink_width/2))\n",
    "        xmlbox.find('ymin').text = str(int(ymin*(1-y_shrink_scale) + shrink_heigt/2))\n",
    "        xmlbox.find('ymax').text = str(int(ymax*(1-y_shrink_scale) + shrink_heigt/2))\n",
    "    tree.write(SEED_CHG_XML + \"ge_shrink_scale_\" + str(x_shrink_scale) + \"_\" + str(y_shrink_scale) +  \"_\" + str(padding) +\"_\" + xml)\n",
    "    #cv2.imshow(\"demo\", array)\n",
    "    #cv2.waitKey(5000)\n",
    "    #break"
   ]
  },
  {
   "cell_type": "code",
   "execution_count": null,
   "metadata": {},
   "outputs": [],
   "source": []
  },
  {
   "cell_type": "code",
   "execution_count": null,
   "metadata": {},
   "outputs": [],
   "source": []
  }
 ],
 "metadata": {
  "kernelspec": {
   "display_name": "Python 3",
   "language": "python",
   "name": "python3"
  },
  "language_info": {
   "codemirror_mode": {
    "name": "ipython",
    "version": 3
   },
   "file_extension": ".py",
   "mimetype": "text/x-python",
   "name": "python",
   "nbconvert_exporter": "python",
   "pygments_lexer": "ipython3",
   "version": "3.5.2"
  }
 },
 "nbformat": 4,
 "nbformat_minor": 2
}
