{
 "cells": [
  {
   "cell_type": "code",
   "execution_count": 184,
   "metadata": {},
   "outputs": [],
   "source": [
    "import os, time\n",
    "import cv2\n",
    "import xml.etree.ElementTree as ET\n",
    "from PIL import Image\n",
    "\n",
    "SEED_XML_DIR = '/data/wxjs/Annotations/'\n",
    "SEED_IMG_DIR = '/data/wxjs/JPEGImages/'\n",
    "SEED_CHG_DIR = '/data/wxjs/Changed_Annotations/'\n",
    "TEST_DIR = '/data/wxjs/test/'\n",
    "'''\n",
    "seed_xml_names = os.listdir(SEED_XML_DIR)\n",
    "seed_img_names = os.listdir(SEED_IMG_DIR)\n",
    "seed_chg_names = os.listdir(SEED_CHG_DIR)\n",
    "'''\n",
    "\n",
    "classes_ = ['slagcar']\n",
    "classes = ['cs', 'cns', 'ncs', 'ncns']\n",
    "test_img_file = './00a9e6f925d59563f493b282ed110cbc.jpg'"
   ]
  },
  {
   "cell_type": "code",
   "execution_count": 185,
   "metadata": {},
   "outputs": [],
   "source": [
    "def get_obj_from_image_file(file, bbox):\n",
    "    img = cv2.imread(file)\n",
    "    img_obj = img[int(bbox[2]):int(bbox[3]), int(bbox[0]):int(bbox[1])]\n",
    "    return img_obj"
   ]
  },
  {
   "cell_type": "code",
   "execution_count": null,
   "metadata": {},
   "outputs": [],
   "source": [
    "def get_obj_from_xml(xml):\n",
    "    in_file = open(xml_name)\n",
    "    tree=ET.parse(in_file)\n",
    "    root = tree.getroot()\n",
    "    return [obj for obj in root.iter('object')]"
   ]
  },
  {
   "cell_type": "code",
   "execution_count": 186,
   "metadata": {},
   "outputs": [
    {
     "name": "stdout",
     "output_type": "stream",
     "text": [
      "(1824.0, 2469.0, 621.0, 1585.0)\n"
     ]
    }
   ],
   "source": [
    "seed_xml_names_ = ['00a9e6f925d59563f493b282ed110cbc.xml']\n",
    "for xml_name in seed_xml_names_:\n",
    "    #in_file = open(SEED_XML_DIR + xml_name)\n",
    "    in_file = open(xml_name)\n",
    "    tree=ET.parse(in_file)\n",
    "    root = tree.getroot()\n",
    "    size = root.find('size')\n",
    "    #w = int(size.find('width').text)    \n",
    "    #h = int(size.find('height').text)\n",
    "\n",
    "    for obj in root.iter('object'):\n",
    "        difficult = obj.find('difficult').text\n",
    "        cls_ = obj.find('name').text\n",
    "        if cls_ not in classes_ or int(difficult)==1:\n",
    "            continue\n",
    "        '''\n",
    "        cover = obj.find('cover').text\n",
    "        spray = obj.find('spray').text\n",
    "        if(cover == '1' and spray == '1'):\n",
    "            cls = 'cs'\n",
    "        elif(cover == '1' and spray == '0'):\n",
    "            cls = 'cns'\n",
    "        elif(cover == '0' and spray == '1'):\n",
    "            cls = 'ncs'\n",
    "        elif(cover == '0' and spray == '0'):\n",
    "            cls = 'ncns'\n",
    "        #print(cls)\n",
    "        #print('cover:{0}; spray:{1}'.format(cover, spray))\n",
    "        #cls_id = classes.index(cls)\n",
    "        '''\n",
    "        xmlbox = obj.find('bndbox')\n",
    "        b = (float(xmlbox.find('xmin').text), float(xmlbox.find('xmax').text), float(xmlbox.find('ymin').text), float(xmlbox.find('ymax').text))\n",
    "        print(b)\n",
    "        img_obj = get_obj_from_image_file(SEED_IMG_DIR + xml_name[:-3] + 'jpg', b)\n",
    "        bak_obj_element = obj\n",
    "    xmlbox.find('xmin').text = \"8888\" \n",
    "    tree.write('tree_test.xml')\n",
    "    break\n",
    "        \n",
    "        "
   ]
  },
  {
   "cell_type": "code",
   "execution_count": 187,
   "metadata": {},
   "outputs": [
    {
     "name": "stdout",
     "output_type": "stream",
     "text": [
      "<Element 'bndbox' at 0x7f721589f908>\n",
      "(123456789.0, 2469.0, 621.0, 1585.0)\n"
     ]
    }
   ],
   "source": [
    "def gernerate_new_xml_and_imag(img_obj, obj_element, xml_tree_template, img_template):\n",
    "    return\n",
    "img_obj, obj_element, xml_tree_template = img_obj, bak_obj_element, tree\n",
    "obj_file_name = 'abstracted_obj.jpg' #dog.jpg'\n",
    "cv2.imwrite(obj_file_name, img_obj)\n",
    "im=Image.open(test_img_file)\n",
    "#print(im.size)\n",
    "im=im.rotate(15) \n",
    "im1=Image.open(obj_file_name)\n",
    "new_size = (300, 300)\n",
    "im1.thumbnail(new_size)\n",
    "new_position = (500, 500)\n",
    "\n",
    "xmlbox_ = obj_element.find('bndbox')\n",
    "print(xmlbox)\n",
    "\n",
    "element_object = ET.Element('object')\n",
    "tag_name = ET.SubElement(element_object, 'name')\n",
    "tag_name.text = \"slagcar\"\n",
    "\n",
    "tag_difficult = ET.SubElement(element_object, 'difficult')\n",
    "tag_difficult.text = \"0\"\n",
    "\n",
    "element_bndbox = ET.SubElement(element_object, 'bndbox')\n",
    "tag_xmin = ET.SubElement(element_bndbox, 'xmin')\n",
    "tag_ymin = ET.SubElement(element_bndbox, 'ymin')\n",
    "tag_xmax = ET.SubElement(element_bndbox, 'xmax')\n",
    "tag_ymax = ET.SubElement(element_bndbox, 'ymax')\n",
    "tag_xmin.text = str(new_position[0])\n",
    "tag_ymin.text = str(new_position[1])\n",
    "tag_xmax.text = str(new_position[0] + new_size[0])\n",
    "tag_ymax.text = str(new_position[1] + new_size[1])\n",
    "\n",
    "root.append(element_object)\n",
    "\n",
    "xmlbox.find('xmin').text = \"123456789\"\n",
    "b = (float(xmlbox.find('xmin').text), float(xmlbox.find('xmax').text), float(xmlbox.find('ymin').text), float(xmlbox.find('ymax').text))\n",
    "print(b)\n",
    "\n",
    "im.paste(im1,new_position)\n",
    "im.save('test.jpg')\n",
    "#im.show()"
   ]
  },
  {
   "cell_type": "code",
   "execution_count": 188,
   "metadata": {},
   "outputs": [],
   "source": [
    "#root = xml_tree_template.getroot()\n",
    "#index = 1\n",
    "#root.insert(index, new_box_element)\n",
    "xml_tree_template.write('test.xml')"
   ]
  },
  {
   "cell_type": "code",
   "execution_count": 101,
   "metadata": {},
   "outputs": [
    {
     "name": "stdout",
     "output_type": "stream",
     "text": [
      "Help on built-in function insert:\n",
      "\n",
      "insert(index, subelement, /) method of xml.etree.ElementTree.Element instance\n",
      "\n"
     ]
    }
   ],
   "source": [
    "help(root.insert)"
   ]
  }
 ],
 "metadata": {
  "kernelspec": {
   "display_name": "Python 3",
   "language": "python",
   "name": "python3"
  },
  "language_info": {
   "codemirror_mode": {
    "name": "ipython",
    "version": 3
   },
   "file_extension": ".py",
   "mimetype": "text/x-python",
   "name": "python",
   "nbconvert_exporter": "python",
   "pygments_lexer": "ipython3",
   "version": "3.5.2"
  }
 },
 "nbformat": 4,
 "nbformat_minor": 2
}
