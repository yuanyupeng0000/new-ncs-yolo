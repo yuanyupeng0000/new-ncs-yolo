{
 "cells": [
  {
   "cell_type": "code",
   "execution_count": 22,
   "metadata": {},
   "outputs": [],
   "source": [
    "import os, time\n",
    "import xml.etree.ElementTree as ET\n",
    "#SEED_XML_DIR = '/media/yyp/DATA/Public_Datasets/COCO/Annotations/'\n",
    "#GENE_XML_DIR = '/media/yyp/DATA/Public_Datasets/COCO/Generated_Annotations/'\n",
    "SEED_XML_DIR = '/media/yyp/DATA/Public_Datasets/BITVehicle/Annotations/'\n",
    "GENE_XML_DIR = '/media/yyp/DATA/Public_Datasets/BITVehicle/Annotations/'\n",
    "seed_xml_names = os.listdir(SEED_XML_DIR)\n",
    "seed_xml_names.sort(reverse=False)\n",
    "#print(seed_xml_names)\n",
    "for xml_name in seed_xml_names:\n",
    "    if((int(xml_name[-9:-4]) < 9073) or (int(xml_name[-9:-4]) > 9850)):\n",
    "        continue\n",
    "    in_file = open(SEED_XML_DIR + xml_name)\n",
    "    tree=ET.parse(in_file)\n",
    "    root = tree.getroot()\n",
    "    \n",
    "\n",
    "    for obj in root.iter('object'):\n",
    "        cls = obj.find('name').text\n",
    "        if(cls == 'car'):\n",
    "            #obj.find('name').text = 'truck'\n",
    "            #tree.write(SEED_XML_DIR + xml_name)\n",
    "            \n",
    "            print('xml {0} changed'.format(xml_name))\n",
    "        \n",
    "        "
   ]
  },
  {
   "cell_type": "code",
   "execution_count": 24,
   "metadata": {},
   "outputs": [
    {
     "name": "stdout",
     "output_type": "stream",
     "text": [
      "251\n",
      "249\n",
      "0\n",
      "0\n",
      "1049\n",
      "1051\n",
      "748\n",
      "751\n"
     ]
    }
   ],
   "source": [
    "size = root.find('size')\n",
    "width = int(size.find('width').text)\n",
    "height = int(size.find('height').text)\n",
    "bndbox = obj.find('bndbox')\n",
    "print(bndbox.find('xmin').text)\n",
    "bndbox.find('xmin').text = max(int(bndbox.find('xmin').text) - 2, 0)\n",
    "print(bndbox.find('xmin').text)\n",
    "\n",
    "print(bndbox.find('ymin').text)\n",
    "bndbox.find('ymin').text = max(int(bndbox.find('ymin').text) - 3, 0)\n",
    "print(bndbox.find('ymin').text)\n",
    "\n",
    "print(bndbox.find('xmax').text)\n",
    "bndbox.find('xmax').text = min(int(bndbox.find('xmax').text) + 2, width)\n",
    "print(bndbox.find('xmax').text)\n",
    "\n",
    "print(bndbox.find('ymax').text)\n",
    "bndbox.find('ymax').text = min(int(bndbox.find('ymax').text) + 3, height)\n",
    "print(bndbox.find('ymax').text)\n"
   ]
  },
  {
   "cell_type": "code",
   "execution_count": null,
   "metadata": {},
   "outputs": [],
   "source": []
  }
 ],
 "metadata": {
  "kernelspec": {
   "display_name": "Python 3",
   "language": "python",
   "name": "python3"
  },
  "language_info": {
   "codemirror_mode": {
    "name": "ipython",
    "version": 3
   },
   "file_extension": ".py",
   "mimetype": "text/x-python",
   "name": "python",
   "nbconvert_exporter": "python",
   "pygments_lexer": "ipython3",
   "version": "3.5.2"
  }
 },
 "nbformat": 4,
 "nbformat_minor": 2
}
